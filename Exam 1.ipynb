{
 "cells": [
  {
   "cell_type": "markdown",
   "id": "3d22507c",
   "metadata": {},
   "source": [
    "<H1>Question 1</H1>"
   ]
  },
  {
   "cell_type": "code",
   "execution_count": null,
   "id": "89a5e3b5",
   "metadata": {},
   "outputs": [],
   "source": []
  },
  {
   "cell_type": "markdown",
   "id": "61b8f2c2",
   "metadata": {},
   "source": [
    "<H1>Question 2</H1>"
   ]
  },
  {
   "cell_type": "code",
   "execution_count": 8,
   "id": "c2150523",
   "metadata": {},
   "outputs": [
    {
     "name": "stdout",
     "output_type": "stream",
     "text": [
      "Enter the Input Value:2\n",
      "13.414213562373096\n"
     ]
    }
   ],
   "source": [
    "n=int(input(\"Enter the Input Value:\"))\n",
    "def addi(n):\n",
    "    d = { 'Square': lambda a : a**2, \n",
    "         'Cube': lambda a : a**3, \n",
    "         'Squareroot': lambda a : a**(1/2)}\n",
    "    sum = 0\n",
    "    for key in d.keys():\n",
    "        sum += d[key](n)\n",
    "    return sum\n",
    "    \n",
    "print(addi(n))"
   ]
  },
  {
   "cell_type": "markdown",
   "id": "ee0176c8",
   "metadata": {},
   "source": [
    "<H1>Question 3</H1>"
   ]
  },
  {
   "cell_type": "code",
   "execution_count": null,
   "id": "a1e67e30",
   "metadata": {},
   "outputs": [],
   "source": []
  },
  {
   "cell_type": "markdown",
   "id": "4a2db07d",
   "metadata": {},
   "source": [
    "<H1>Question 4</H1>"
   ]
  },
  {
   "cell_type": "code",
   "execution_count": null,
   "id": "74106fbc",
   "metadata": {},
   "outputs": [],
   "source": []
  },
  {
   "cell_type": "markdown",
   "id": "d2eadd0a",
   "metadata": {},
   "source": [
    "<H1>Question 5</H1>"
   ]
  },
  {
   "cell_type": "code",
   "execution_count": null,
   "id": "fe623cef",
   "metadata": {},
   "outputs": [],
   "source": [
    "WeightOnEarth = {'John':45, 'Shelly':65, 'Marry':35}\n",
    "GMoon=1.622\n",
    "GEarth=9.81\n",
    "wt = lambda x: round((x / GEarth) * GMoon , 2)\n",
    "cal = lambda k: (k,wt(WeightOnEarth[k]))\n",
    "output  = dict(cal(k) for k in WeightOnEarth)\n",
    "print(\"Output:\",output)"
   ]
  },
  {
   "cell_type": "markdown",
   "id": "dfb1f040",
   "metadata": {},
   "source": [
    "<H1>Question 6</H1>"
   ]
  },
  {
   "cell_type": "code",
   "execution_count": null,
   "id": "aa157d1b",
   "metadata": {},
   "outputs": [],
   "source": []
  },
  {
   "cell_type": "markdown",
   "id": "a28d1070",
   "metadata": {},
   "source": [
    "<H1>Question 7</H1>"
   ]
  },
  {
   "cell_type": "code",
   "execution_count": 10,
   "id": "f0b64430",
   "metadata": {},
   "outputs": [
    {
     "name": "stdout",
     "output_type": "stream",
     "text": [
      "Input List:[[1, 2, 3, 4, 8], [2, 3, 8, 5, 6], [8, 4, 5, 3, 7], [6, 9, 8, 3], [9, 12, 3, 7, 6, 8, 4, 6, 21, 1, 6]]\n",
      "Output Ser:{8, 3}\n"
     ]
    }
   ],
   "source": [
    "from functools import reduce\n",
    "given_sets = [[1,2,3,4,8], [2,3,8,5,6], [8,4,5,3,7], [6,9,8,3],[9,12,3,7,6,8,4,6,21,1,6]]\n",
    "print (\"Input List:\" + str(given_sets))\n",
    "output = set(reduce(lambda i, j: i & j, (set(x) for x in given_sets)))\n",
    "print (\"Output Ser:\" + str(output))"
   ]
  },
  {
   "cell_type": "markdown",
   "id": "74f1c2fb",
   "metadata": {},
   "source": [
    "<H1>Question 8</H1>"
   ]
  },
  {
   "cell_type": "code",
   "execution_count": 4,
   "id": "9f4f887a",
   "metadata": {},
   "outputs": [
    {
     "name": "stdout",
     "output_type": "stream",
     "text": [
      "[9, 7.0, 7.0, 7.25, 6.8]\n"
     ]
    }
   ],
   "source": [
    "Input_list=[9,5,7,8,5]\n",
    "import itertools as it\n",
    "l=[]\n",
    "l=it.accumulate(list(enumerate(Input_list)),lambda x,y:(y[0],(x[1]*(x[0]+1)+y[1])/(y[0]+1)))\n",
    "print(list(map(lambda x:x[1],l)))"
   ]
  },
  {
   "cell_type": "markdown",
   "id": "372dcd03",
   "metadata": {},
   "source": [
    "<H1>Question 9</H1>"
   ]
  },
  {
   "cell_type": "code",
   "execution_count": 5,
   "id": "3eed47cc",
   "metadata": {},
   "outputs": [
    {
     "name": "stdout",
     "output_type": "stream",
     "text": [
      "['TRUE', 'FALSE', 'TRUE', 'TRUE', 'FALSE', 'FALSE']\n"
     ]
    }
   ],
   "source": [
    "Isbool=['True','FALse','tRUe','tRue','False','FALSE']\n",
    "a=map(lambda x:x.upper(),Isbool)\n",
    "output=list(a)\n",
    "print(output)"
   ]
  },
  {
   "cell_type": "markdown",
   "id": "c218163a",
   "metadata": {},
   "source": [
    "<H1>Question 10</H1>"
   ]
  },
  {
   "cell_type": "code",
   "execution_count": 18,
   "id": "fac474ca",
   "metadata": {},
   "outputs": [
    {
     "name": "stdout",
     "output_type": "stream",
     "text": [
      "17-12-1997 22-04-2011 01-05-1993 19-06-2020\n",
      "Datalist: ['17-12-1997', '22-04-2011', '01-05-1993', '19-06-2020']\n",
      "Output ['1997', '2011', '1993', '2020']\n"
     ]
    }
   ],
   "source": [
    "datalist=[str(i) for i in input().split()]\n",
    "print(\"Datalist:\",datalist)\n",
    "l=[]\n",
    "for j in datalist:\n",
    "    l.append(j[6:])\n",
    "print(\"Output\",l)"
   ]
  }
 ],
 "metadata": {
  "kernelspec": {
   "display_name": "Python 3 (ipykernel)",
   "language": "python",
   "name": "python3"
  },
  "language_info": {
   "codemirror_mode": {
    "name": "ipython",
    "version": 3
   },
   "file_extension": ".py",
   "mimetype": "text/x-python",
   "name": "python",
   "nbconvert_exporter": "python",
   "pygments_lexer": "ipython3",
   "version": "3.9.7"
  }
 },
 "nbformat": 4,
 "nbformat_minor": 5
}
